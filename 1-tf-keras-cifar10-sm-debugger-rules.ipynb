{
 "cells": [
  {
   "cell_type": "code",
   "execution_count": null,
   "metadata": {},
   "outputs": [],
   "source": [
    "# !pip install -q --upgrade pip\n",
    "# !pip install -q sagemaker smdebug awscli sagemaker-experiments --upgrade"
   ]
  },
  {
   "cell_type": "code",
   "execution_count": 1,
   "metadata": {},
   "outputs": [],
   "source": [
    "import os\n",
    "import numpy as np\n",
    "import time\n",
    "import sys\n",
    "import sagemaker\n",
    "import boto3\n",
    "import matplotlib.pyplot as plt\n",
    "import pandas as pd\n",
    "\n",
    "from sagemaker.session import s3_input\n",
    "from sagemaker.debugger import Rule, DebuggerHookConfig, TensorBoardOutputConfig, CollectionConfig, rule_configs\n",
    "from sagemaker.tensorflow import TensorFlow\n",
    "\n",
    "from smexperiments.experiment import Experiment\n",
    "from smexperiments.trial import Trial\n",
    "from smexperiments.trial_component import TrialComponent\n",
    "from smexperiments.tracker import Tracker\n",
    "\n",
    "sess = boto3.Session()\n",
    "sm   = sess.client('sagemaker')\n",
    "role = sagemaker.get_execution_role()\n",
    "sagemaker_session = sagemaker.Session(boto_session=sess)"
   ]
  },
  {
   "cell_type": "markdown",
   "metadata": {},
   "source": [
    "#### Experiment name and dataset path"
   ]
  },
  {
   "cell_type": "code",
   "execution_count": 2,
   "metadata": {},
   "outputs": [],
   "source": [
    "experiment_name = 'sagemaker-debugger-cifar10-experiment'\n",
    "bucket_name     = 'sagemaker-jobs-studio'\n",
    "job_folder      = 'jobs'\n",
    "dataset_folder  = 'datasets'\n",
    "\n",
    "train_path = f's3://{bucket_name}/{dataset_folder}/cifar10-dataset/train'\n",
    "val_path   = f's3://{bucket_name}/{dataset_folder}/cifar10-dataset/validation'\n",
    "eval_path  = f's3://{bucket_name}/{dataset_folder}/cifar10-dataset/eval'"
   ]
  },
  {
   "cell_type": "markdown",
   "metadata": {},
   "source": [
    "#### Create a new experiment, if one doesn't exist\n",
    "Experiments -> Trials -> Trial Components"
   ]
  },
  {
   "cell_type": "code",
   "execution_count": 3,
   "metadata": {},
   "outputs": [],
   "source": [
    "exp_exists = bool([exp for exp in Experiment.list() if exp.experiment_name == experiment_name])\n",
    "\n",
    "if exp_exists:\n",
    "    debugger_experiment = Experiment.load(experiment_name)\n",
    "else:\n",
    "    debugger_experiment = Experiment.create(\n",
    "                                experiment_name = \"sagemaker-debugger-cifar10-experiment\", \n",
    "                                description     = \"Experiment to track cifar10 debugger trials\", \n",
    "                                sagemaker_boto_client=sm)"
   ]
  },
  {
   "cell_type": "markdown",
   "metadata": {},
   "source": [
    "#### Specify hyperparameters"
   ]
  },
  {
   "cell_type": "code",
   "execution_count": 4,
   "metadata": {},
   "outputs": [],
   "source": [
    "hyperparams={'epochs'       : 200,\n",
    "             'learning-rate': 0.01,\n",
    "             'batch-size'   : 256,\n",
    "             'weight-decay' : 2e-4,\n",
    "             'momentum'     : 0.9,\n",
    "             'optimizer'    : 'adam',\n",
    "             'model-type'   : 'resnet'}"
   ]
  },
  {
   "cell_type": "markdown",
   "metadata": {},
   "source": [
    "#### Specify SageMaker Debugger Rules\n",
    "https://docs.aws.amazon.com/sagemaker/latest/dg/debugger-built-in-rules.html"
   ]
  },
  {
   "cell_type": "code",
   "execution_count": 5,
   "metadata": {},
   "outputs": [],
   "source": [
    "debug_rules = [\n",
    "    Rule.sagemaker(rule_configs.overtraining()),\n",
    "    Rule.sagemaker(rule_configs.overfit()),\n",
    "    Rule.sagemaker(rule_configs.loss_not_decreasing())\n",
    "            ]"
   ]
  },
  {
   "cell_type": "markdown",
   "metadata": {},
   "source": [
    "#### Create a SageMaker TensorFlow estimator"
   ]
  },
  {
   "cell_type": "code",
   "execution_count": 6,
   "metadata": {},
   "outputs": [],
   "source": [
    "output_path = f's3://{bucket_name}/jobs'\n",
    "train_instance_type = 'ml.p3.2xlarge'\n",
    "\n",
    "tf_estimator = TensorFlow(entry_point          = 'cifar10-training-sagemaker.py', \n",
    "                          source_dir           = 'code',\n",
    "                          output_path          = output_path + '/',\n",
    "                          code_location        = output_path,\n",
    "                          role                 = role,\n",
    "                          train_instance_count = 1, \n",
    "                          train_instance_type  = train_instance_type,\n",
    "                          framework_version    = '1.15', \n",
    "                          py_version           = 'py3',\n",
    "                          script_mode          = True,\n",
    "                          sagemaker_session    = sagemaker_session,\n",
    "                          hyperparameters      = hyperparams,\n",
    "                          rules                = debug_rules)"
   ]
  },
  {
   "cell_type": "markdown",
   "metadata": {},
   "source": [
    "#### Create a Trial, and associate it your Experiment\n",
    "An Experiment can have multiple trials"
   ]
  },
  {
   "cell_type": "code",
   "execution_count": 7,
   "metadata": {},
   "outputs": [],
   "source": [
    "time_append = time.strftime(\"%Y-%m-%d-%H-%M-%S\", time.gmtime())\n",
    "\n",
    "trial_name = f'1-GTC2020-trial-{time_append}'\n",
    "cifar10_trial = Trial.create(\n",
    "    trial_name = trial_name, \n",
    "    experiment_name = debugger_experiment.experiment_name,\n",
    "    sagemaker_boto_client = sm,\n",
    ")\n",
    "\n",
    "job_name=f'1-GTC2020-{hyperparams[\"model-type\"]}-{time_append}'\n",
    "experiment_config = {\"ExperimentName\": debugger_experiment.experiment_name, \n",
    "                       \"TrialName\": cifar10_trial.trial_name,\n",
    "                       \"TrialComponentDisplayName\": job_name,}"
   ]
  },
  {
   "cell_type": "code",
   "execution_count": 8,
   "metadata": {},
   "outputs": [
    {
     "name": "stderr",
     "output_type": "stream",
     "text": [
      "INFO:sagemaker:Creating training-job with name: 1-GTC2020-resnet-2020-03-22-22-24-58\n"
     ]
    }
   ],
   "source": [
    "tf_estimator.fit({'training': train_path,\n",
    "                  'validation': val_path,\n",
    "                  'eval': eval_path},\n",
    "                  job_name=job_name,\n",
    "                  wait=False,\n",
    "                  experiment_config=experiment_config)"
   ]
  },
  {
   "cell_type": "code",
   "execution_count": 9,
   "metadata": {},
   "outputs": [
    {
     "name": "stdout",
     "output_type": "stream",
     "text": [
      "Training job name: 1-GTC2020-resnet-2020-03-22-22-24-58\n",
      "22:27:26: Current job status: [PrimaryStatus: InProgress, SecondaryStatus: Training]ng]"
     ]
    }
   ],
   "source": [
    "# Below command will give the status of training job\n",
    "job_name = tf_estimator.latest_training_job.name\n",
    "client = tf_estimator.sagemaker_session.sagemaker_client\n",
    "description = client.describe_training_job(TrainingJobName=job_name)\n",
    "print('Training job name: ' + job_name)\n",
    "\n",
    "def print_same_line(s):\n",
    "    sys.stdout.write(f'\\r{time.strftime(\"%X\", time.gmtime())}: {s}')\n",
    "    sys.stdout.flush()\n",
    "\n",
    "if description['TrainingJobStatus'] != 'Completed':\n",
    "    while description['SecondaryStatus'] not in {'Training', 'Completed'}:\n",
    "        description = client.describe_training_job(TrainingJobName=job_name)\n",
    "        primary_status = description['TrainingJobStatus']\n",
    "        secondary_status = description['SecondaryStatus']\n",
    "        print_same_line(f'Current job status: [PrimaryStatus: {primary_status}, SecondaryStatus: {secondary_status}]')\n",
    "        time.sleep(15)"
   ]
  },
  {
   "cell_type": "code",
   "execution_count": 24,
   "metadata": {},
   "outputs": [],
   "source": [
    "tf_estimator.latest_training_job.rule_job_summary()"
   ]
  },
  {
   "cell_type": "code",
   "execution_count": 25,
   "metadata": {},
   "outputs": [],
   "source": [
    "from smdebug.trials import create_trial\n",
    "trial = create_trial(tf_estimator.latest_job_debugger_artifacts_path())\n",
    "# # trial = create_trial(\"s3://sagemaker-jobs-studio/jobs/tf-smdebug-job-2020-03-22-10-56-39/debug-output\")"
   ]
  },
  {
   "cell_type": "code",
   "execution_count": 26,
   "metadata": {},
   "outputs": [],
   "source": [
    "trial.tensor_names()"
   ]
  },
  {
   "cell_type": "code",
   "execution_count": 17,
   "metadata": {},
   "outputs": [],
   "source": [
    "def tensor_df(tname):\n",
    "    tval = trial.tensor(tname).values()\n",
    "    df   = pd.DataFrame.from_dict(tval,orient='index',columns=[tname])\n",
    "    df_tval = df.reset_index().rename(columns={'index':'steps'})\n",
    "    return df_tval"
   ]
  },
  {
   "cell_type": "code",
   "execution_count": 27,
   "metadata": {},
   "outputs": [],
   "source": [
    "df_val_loss = tensor_df('val_loss')\n",
    "df_loss = tensor_df('loss')"
   ]
  },
  {
   "cell_type": "code",
   "execution_count": 21,
   "metadata": {},
   "outputs": [],
   "source": [
    "index_to_start = 5\n",
    "fig, ax = plt.subplots(1,1, sharey=True)\n",
    "fig.set_size_inches([10, 5])\n",
    "\n",
    "df_val_loss[index_to_start:].plot(x='steps',y='val_loss', ax=ax, style='-')\n",
    "df_loss[index_to_start:].plot(x='steps',y='loss', ax=ax, style='.')\n",
    "\n",
    "# overfit_rule = \n",
    "# ax.axvline(x=overfit_rule, c='#1f77b4', ls='--')\n",
    "# ax.text(overfit_rule+2e2,1.6,'Overfit Rule')\n",
    "\n",
    "# overtraining_rule = \n",
    "# ax.axvline(x=overtraining_rule, c='r', alpha=0.6, ls='--')\n",
    "# _ = ax.text(overtraining_rule+2e2,1.6,'Overtraining Rule')"
   ]
  },
  {
   "cell_type": "markdown",
   "metadata": {},
   "source": [
    "Overfitting rule<br>https://docs.aws.amazon.com/sagemaker/latest/dg/overfit.html\n",
    "\n",
    "Overtraining rule<br>https://docs.aws.amazon.com/sagemaker/latest/dg/overtraining.html"
   ]
  },
  {
   "cell_type": "code",
   "execution_count": null,
   "metadata": {},
   "outputs": [],
   "source": []
  }
 ],
 "metadata": {
  "kernelspec": {
   "display_name": "Python 3 (Data Science)",
   "language": "python",
   "name": "python3__SAGEMAKER_INTERNAL__arn:aws:sagemaker:us-east-2:429704687514:environment/datascience"
  },
  "language_info": {
   "codemirror_mode": {
    "name": "ipython",
    "version": 3
   },
   "file_extension": ".py",
   "mimetype": "text/x-python",
   "name": "python",
   "nbconvert_exporter": "python",
   "pygments_lexer": "ipython3",
   "version": "3.7.6"
  }
 },
 "nbformat": 4,
 "nbformat_minor": 4
}
