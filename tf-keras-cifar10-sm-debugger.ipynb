{
 "cells": [
  {
   "cell_type": "code",
   "execution_count": 1,
   "metadata": {},
   "outputs": [],
   "source": [
    "import os\n",
    "import numpy as np\n",
    "import time\n",
    "import sagemaker\n",
    "from sagemaker.session import s3_input\n",
    "from sagemaker.debugger import Rule, DebuggerHookConfig, TensorBoardOutputConfig, CollectionConfig, rule_configs\n",
    "from sagemaker.tensorflow import TensorFlow\n",
    "\n",
    "sagemaker_session = sagemaker.Session()\n",
    "role = sagemaker.get_execution_role()\n",
    "\n",
    "bucket_name = 'sagemaker-jobs'\n",
    "job_folder = 'jobs'\n",
    "dataset_folder = 'datasets'"
   ]
  },
  {
   "cell_type": "code",
   "execution_count": 2,
   "metadata": {},
   "outputs": [],
   "source": [
    "# !pip install -q --upgrade pip\n",
    "# !pip install -q sagemaker smdebug awscli sagemaker-experiments --upgrade"
   ]
  },
  {
   "cell_type": "code",
   "execution_count": 3,
   "metadata": {},
   "outputs": [],
   "source": [
    "hyperparams={    'epochs'       : 200,\n",
    "                 'learning-rate': 0.01,\n",
    "                 'batch-size'   : 256,\n",
    "                 'weight-decay' : 2e-4,\n",
    "                 'momentum'     : 0.9,\n",
    "                 'optimizer'    : 'adam'}"
   ]
  },
  {
   "cell_type": "code",
   "execution_count": 4,
   "metadata": {},
   "outputs": [],
   "source": [
    "rules = [\n",
    "    Rule.sagemaker(rule_configs.vanishing_gradient()), \n",
    "    Rule.sagemaker(rule_configs.loss_not_decreasing()),\n",
    "    Rule.sagemaker(rule_configs.overfit())\n",
    "]"
   ]
  },
  {
   "cell_type": "code",
   "execution_count": 5,
   "metadata": {},
   "outputs": [],
   "source": [
    "job_name = f'tensorflow-debugger-{time.strftime(\"%Y-%m-%d-%H-%M-%S-%j\", time.gmtime())}'\n",
    "output_path = f's3://{bucket_name}/jobs'\n",
    "\n",
    "metric_definitions = [{'Name': 'val_acc', 'Regex': 'val_acc: ([0-9\\\\.]+)'}]\n",
    "train_instance_type = 'ml.p3.2xlarge'\n",
    "#train_instance_type = 'local_gpu'\n",
    "\n",
    "tf_estimator = TensorFlow(entry_point          = 'cifar10-training-sagemaker.py', \n",
    "                          source_dir           = 'code',\n",
    "                          output_path          = output_path + '/',\n",
    "                          code_location        = output_path,\n",
    "                          role                 = role,\n",
    "                          train_instance_count = 1, \n",
    "                          train_instance_type  = train_instance_type,\n",
    "                          framework_version    = '1.14', \n",
    "                          py_version           = 'py3',\n",
    "                          script_mode          = True,\n",
    "                          metric_definitions   = metric_definitions,\n",
    "                          hyperparameters      = hyperparams,\n",
    "                          rules                = rules)\n",
    "\n",
    "if train_instance_type == 'local_gpu':\n",
    "    train_path = 'file://../dataset/train'\n",
    "    val_path = 'file://../dataset/validation'\n",
    "    eval_path = 'file://../dataset/eval'\n",
    "else:\n",
    "    train_path = f's3://{bucket_name}/{dataset_folder}/cifar10-dataset/train'\n",
    "    val_path = f's3://{bucket_name}/{dataset_folder}/cifar10-dataset/validation'\n",
    "    eval_path = f's3://{bucket_name}/{dataset_folder}/cifar10-dataset/eval'"
   ]
  },
  {
   "cell_type": "code",
   "execution_count": 6,
   "metadata": {},
   "outputs": [],
   "source": [
    "tf_estimator.fit({'training': train_path,\n",
    "                  'validation': val_path,\n",
    "                  'eval': eval_path},\n",
    "                  job_name=job_name, wait=False)"
   ]
  },
  {
   "cell_type": "code",
   "execution_count": 7,
   "metadata": {},
   "outputs": [],
   "source": [
    "job_name = tf_estimator.latest_training_job.name\n",
    "client = tf_estimator.sagemaker_session.sagemaker_client\n",
    "\n",
    "description = client.describe_training_job(TrainingJobName=job_name)"
   ]
  },
  {
   "cell_type": "code",
   "execution_count": 112,
   "metadata": {},
   "outputs": [
    {
     "data": {
      "text/plain": [
       "[{'RuleConfigurationName': 'VanishingGradient',\n",
       "  'RuleEvaluationJobArn': 'arn:aws:sagemaker:us-west-2:453691756499:processing-job/tensorflow-debugger-2020-0-vanishinggradient-0d582677',\n",
       "  'RuleEvaluationStatus': 'IssuesFound',\n",
       "  'StatusDetails': 'RuleEvaluationConditionMet: Evaluation of the rule VanishingGradient at step 0 resulted in the condition being met\\n',\n",
       "  'LastModifiedTime': datetime.datetime(2020, 3, 8, 1, 41, 30, 695000, tzinfo=tzlocal())},\n",
       " {'RuleConfigurationName': 'LossNotDecreasing',\n",
       "  'RuleEvaluationJobArn': 'arn:aws:sagemaker:us-west-2:453691756499:processing-job/tensorflow-debugger-2020-0-lossnotdecreasing-29e4258c',\n",
       "  'RuleEvaluationStatus': 'IssuesFound',\n",
       "  'StatusDetails': 'RuleEvaluationConditionMet: Evaluation of the rule LossNotDecreasing at step 3741 resulted in the condition being met\\n',\n",
       "  'LastModifiedTime': datetime.datetime(2020, 3, 8, 1, 41, 30, 695000, tzinfo=tzlocal())},\n",
       " {'RuleConfigurationName': 'Overfit',\n",
       "  'RuleEvaluationJobArn': 'arn:aws:sagemaker:us-west-2:453691756499:processing-job/tensorflow-debugger-2020-0-overfit-52cdee1f',\n",
       "  'RuleEvaluationStatus': 'IssuesFound',\n",
       "  'StatusDetails': 'RuleEvaluationConditionMet: Evaluation of the rule Overfit at step 8716 resulted in the condition being met\\n',\n",
       "  'LastModifiedTime': datetime.datetime(2020, 3, 8, 1, 41, 30, 695000, tzinfo=tzlocal())}]"
      ]
     },
     "execution_count": 112,
     "metadata": {},
     "output_type": "execute_result"
    }
   ],
   "source": [
    "tf_estimator.latest_training_job.rule_job_summary()"
   ]
  },
  {
   "cell_type": "code",
   "execution_count": 9,
   "metadata": {},
   "outputs": [],
   "source": [
    "debug_output = description[\"DebugHookConfig\"][\"S3OutputPath\"] + job_name + '/' + 'debug-output/'"
   ]
  },
  {
   "cell_type": "code",
   "execution_count": 17,
   "metadata": {},
   "outputs": [
    {
     "name": "stdout",
     "output_type": "stream",
     "text": [
      "[2020-03-08 01:38:42.448 ip-172-16-22-42:15143 INFO s3_trial.py:42] Loading trial debug-output at path s3://sagemaker-jobs/jobs/tensorflow-debugger-2020-03-08-01-27-54-068/debug-output\n"
     ]
    }
   ],
   "source": [
    "from smdebug.trials import create_trial\n",
    "trial = create_trial(tf_estimator.latest_job_debugger_artifacts_path())"
   ]
  },
  {
   "cell_type": "code",
   "execution_count": 40,
   "metadata": {},
   "outputs": [
    {
     "data": {
      "text/plain": [
       "{'default': <class Collection: name=default>,\n",
       " 'weights': <class Collection: name=weights>,\n",
       " 'biases': <class Collection: name=biases>,\n",
       " 'gradients': <class Collection: name=gradients>,\n",
       " 'losses': <class Collection: name=losses>,\n",
       " 'metrics': <class Collection: name=metrics>,\n",
       " 'inputs': <class Collection: name=inputs>,\n",
       " 'outputs': <class Collection: name=outputs>,\n",
       " 'all': <class Collection: name=all>,\n",
       " 'sm_metrics': <class Collection: name=sm_metrics>,\n",
       " 'optimizer_variables': <class Collection: name=optimizer_variables>}"
      ]
     },
     "execution_count": 40,
     "metadata": {},
     "output_type": "execute_result"
    }
   ],
   "source": [
    "trial.collections()"
   ]
  },
  {
   "cell_type": "code",
   "execution_count": 43,
   "metadata": {},
   "outputs": [
    {
     "data": {
      "text/plain": [
       "['acc',\n",
       " 'batch',\n",
       " 'loss',\n",
       " 'size',\n",
       " 'training/Adam/gradients/gradients/AddN_10:0',\n",
       " 'training/Adam/gradients/gradients/AddN_11:0',\n",
       " 'training/Adam/gradients/gradients/AddN_13:0',\n",
       " 'training/Adam/gradients/gradients/AddN_14:0',\n",
       " 'training/Adam/gradients/gradients/AddN_17:0',\n",
       " 'training/Adam/gradients/gradients/AddN_18:0',\n",
       " 'training/Adam/gradients/gradients/AddN_20:0',\n",
       " 'training/Adam/gradients/gradients/AddN_21:0',\n",
       " 'training/Adam/gradients/gradients/AddN_3:0',\n",
       " 'training/Adam/gradients/gradients/AddN_4:0',\n",
       " 'training/Adam/gradients/gradients/AddN_6:0',\n",
       " 'training/Adam/gradients/gradients/AddN_7:0',\n",
       " 'training/Adam/gradients/gradients/conv2d/BiasAdd_grad/BiasAddGrad:0',\n",
       " 'training/Adam/gradients/gradients/conv2d/Conv2D_grad/Conv2DBackpropFilter:0',\n",
       " 'training/Adam/gradients/gradients/conv2d_1/BiasAdd_grad/BiasAddGrad:0',\n",
       " 'training/Adam/gradients/gradients/conv2d_1/Conv2D_grad/Conv2DBackpropFilter:0',\n",
       " 'training/Adam/gradients/gradients/conv2d_2/BiasAdd_grad/BiasAddGrad:0',\n",
       " 'training/Adam/gradients/gradients/conv2d_2/Conv2D_grad/Conv2DBackpropFilter:0',\n",
       " 'training/Adam/gradients/gradients/conv2d_3/BiasAdd_grad/BiasAddGrad:0',\n",
       " 'training/Adam/gradients/gradients/conv2d_3/Conv2D_grad/Conv2DBackpropFilter:0',\n",
       " 'training/Adam/gradients/gradients/conv2d_4/BiasAdd_grad/BiasAddGrad:0',\n",
       " 'training/Adam/gradients/gradients/conv2d_4/Conv2D_grad/Conv2DBackpropFilter:0',\n",
       " 'training/Adam/gradients/gradients/conv2d_5/BiasAdd_grad/BiasAddGrad:0',\n",
       " 'training/Adam/gradients/gradients/conv2d_5/Conv2D_grad/Conv2DBackpropFilter:0',\n",
       " 'training/Adam/gradients/gradients/dense/BiasAdd_grad/BiasAddGrad:0',\n",
       " 'training/Adam/gradients/gradients/dense/MatMul_grad/MatMul_1:0',\n",
       " 'training/Adam/gradients/gradients/dense_1/BiasAdd_grad/BiasAddGrad:0',\n",
       " 'training/Adam/gradients/gradients/dense_1/MatMul_grad/MatMul_1:0',\n",
       " 'val_acc',\n",
       " 'val_loss']"
      ]
     },
     "execution_count": 43,
     "metadata": {},
     "output_type": "execute_result"
    }
   ],
   "source": [
    "trial.tensor_names()"
   ]
  },
  {
   "cell_type": "code",
   "execution_count": 64,
   "metadata": {},
   "outputs": [],
   "source": [
    "t_acc = trial.tensor('acc')"
   ]
  },
  {
   "cell_type": "code",
   "execution_count": 67,
   "metadata": {},
   "outputs": [],
   "source": [
    "t_acc_val = t_acc.values()"
   ]
  },
  {
   "cell_type": "code",
   "execution_count": 88,
   "metadata": {},
   "outputs": [
    {
     "data": {
      "image/png": "[encoded data removed]",
      "text/plain": [
       "<Figure size 480x480 with 1 Axes>"
      ]
     },
     "metadata": {},
     "output_type": "display_data"
    }
   ],
   "source": [
    "import matplotlib.pyplot as plt\n",
    "import numpy as np\n",
    "\n",
    "plt.figure(num=1, figsize=(8, 8), dpi=60,\n",
    "        facecolor='w', edgecolor='k')\n",
    "\n",
    "for key, value in t_acc_val.items():\n",
    "    plt.scatter(key, value[0], c='b', marker='.')\n",
    "plt.show()"
   ]
  },
  {
   "cell_type": "code",
   "execution_count": null,
   "metadata": {},
   "outputs": [],
   "source": []
  }
 ],
 "metadata": {
  "kernelspec": {
   "display_name": "conda_tensorflow_p36",
   "language": "python",
   "name": "conda_tensorflow_p36"
  },
  "language_info": {
   "codemirror_mode": {
    "name": "ipython",
    "version": 3
   },
   "file_extension": ".py",
   "mimetype": "text/x-python",
   "name": "python",
   "nbconvert_exporter": "python",
   "pygments_lexer": "ipython3",
   "version": "3.6.5"
  }
 },
 "nbformat": 4,
 "nbformat_minor": 4
}
