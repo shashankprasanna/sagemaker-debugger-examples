{
 "cells": [
  {
   "cell_type": "code",
   "execution_count": null,
   "metadata": {},
   "outputs": [],
   "source": [
    "# !pip install -q --upgrade pip\n",
    "# !pip install -q sagemaker smdebug awscli sagemaker-experiments --upgrade"
   ]
  },
  {
   "cell_type": "code",
   "execution_count": 1,
   "metadata": {},
   "outputs": [],
   "source": [
    "import os\n",
    "import numpy as np\n",
    "import time\n",
    "import sagemaker\n",
    "import boto3\n",
    "from sagemaker.session import s3_input\n",
    "from sagemaker.debugger import Rule, DebuggerHookConfig, TensorBoardOutputConfig, CollectionConfig, rule_configs\n",
    "from sagemaker.tensorflow import TensorFlow\n",
    "\n",
    "from smexperiments.experiment import Experiment\n",
    "from smexperiments.trial import Trial\n",
    "from smexperiments.trial_component import TrialComponent\n",
    "from smexperiments.tracker import Tracker"
   ]
  },
  {
   "cell_type": "code",
   "execution_count": 2,
   "metadata": {},
   "outputs": [],
   "source": [
    "sess = boto3.Session()\n",
    "sm = sess.client('sagemaker')\n",
    "sagemaker_session = sagemaker.Session(boto_session=sess)\n",
    "role = sagemaker.get_execution_role()\n",
    "\n",
    "experiment_name = 'sagemaker-debugger-cifar10-experiment'\n",
    "bucket_name = 'sagemaker-jobs-studio'\n",
    "job_folder = 'jobs'\n",
    "dataset_folder = 'datasets'"
   ]
  },
  {
   "cell_type": "code",
   "execution_count": 3,
   "metadata": {},
   "outputs": [],
   "source": [
    "exp_exists = bool([exp for exp in sm.list_experiments()['ExperimentSummaries'] if exp['ExperimentName'] == experiment_name])\n",
    "if exp_exists:\n",
    "    debugger_experiment = Experiment.load('sagemaker-debugger-cifar10-experiment')\n",
    "else:\n",
    "    debugger_experiment = Experiment.create(\n",
    "    experiment_name=\"sagemaker-debugger-cifar10-experiment\", \n",
    "    description=\"Experiment to track cifar10 debugger trials\", \n",
    "    sagemaker_boto_client=sm)"
   ]
  },
  {
   "cell_type": "code",
   "execution_count": 5,
   "metadata": {},
   "outputs": [],
   "source": [
    "trial_name = f'tf-smdebug-trial-{time.strftime(\"%m-%d-%S-%j\", time.gmtime())}'\n",
    "cifar10_trial = Trial.create(\n",
    "    trial_name=trial_name, \n",
    "    experiment_name=debugger_experiment.experiment_name,\n",
    "    sagemaker_boto_client=sm,\n",
    ")"
   ]
  },
  {
   "cell_type": "code",
   "execution_count": 6,
   "metadata": {},
   "outputs": [],
   "source": [
    "hyperparams={'epochs'       : 100,\n",
    "             'learning-rate': 0.01,\n",
    "             'batch-size'   : 256,\n",
    "             'weight-decay' : 2e-4,\n",
    "             'momentum'     : 0.9,\n",
    "             'optimizer'    : 'adam'}"
   ]
  },
  {
   "cell_type": "code",
   "execution_count": 7,
   "metadata": {},
   "outputs": [],
   "source": [
    "debug_rules = [\n",
    "    Rule.sagemaker(rule_configs.loss_not_decreasing()),\n",
    "    Rule.sagemaker(rule_configs.overtraining())\n",
    "]"
   ]
  },
  {
   "cell_type": "code",
   "execution_count": 8,
   "metadata": {},
   "outputs": [],
   "source": [
    "job_name = f'tensorflow-debugger-{time.strftime(\"%Y-%m-%d-%H-%M-%S-%j\", time.gmtime())}'\n",
    "output_path = f's3://{bucket_name}/jobs'\n",
    "\n",
    "train_instance_type = 'ml.p3.2xlarge'\n",
    "\n",
    "tf_estimator = TensorFlow(entry_point               = 'cifar10-training-sagemaker.py', \n",
    "                          source_dir                = 'code',\n",
    "                          output_path               = output_path + '/',\n",
    "                          code_location             = output_path,\n",
    "                          role                      = role,\n",
    "                          train_instance_count      = 1, \n",
    "                          train_instance_type       = train_instance_type,\n",
    "                          framework_version         = '1.15', \n",
    "                          py_version                = 'py3',\n",
    "                          script_mode               = True,\n",
    "                          sagemaker_session         = sagemaker_session,\n",
    "                          hyperparameters           = hyperparams,\n",
    "                          rules                     = debug_rules)"
   ]
  },
  {
   "cell_type": "code",
   "execution_count": 9,
   "metadata": {},
   "outputs": [
    {
     "name": "stderr",
     "output_type": "stream",
     "text": [
      "INFO:sagemaker:Creating training-job with name: tensorflow-debugger-2020-03-20-05-42-32-080\n"
     ]
    }
   ],
   "source": [
    "train_path = f's3://{bucket_name}/{dataset_folder}/cifar10-dataset/train'\n",
    "val_path = f's3://{bucket_name}/{dataset_folder}/cifar10-dataset/validation'\n",
    "eval_path = f's3://{bucket_name}/{dataset_folder}/cifar10-dataset/eval'\n",
    "\n",
    "tf_estimator.fit({'training': train_path,\n",
    "                  'validation': val_path,\n",
    "                  'eval': eval_path},\n",
    "                  job_name=job_name, wait=False,\n",
    "                  experiment_config={\n",
    "                      \"ExperimentName\": debugger_experiment.experiment_name, \n",
    "                      \"TrialName\": cifar10_trial.trial_name,\n",
    "                      \"TrialComponentDisplayName\": job_name,\n",
    "        })"
   ]
  },
  {
   "cell_type": "code",
   "execution_count": null,
   "metadata": {},
   "outputs": [],
   "source": [
    "job_name = tf_estimator.latest_training_job.name\n",
    "client = tf_estimator.sagemaker_session.sagemaker_client\n",
    "\n",
    "description = client.describe_training_job(TrainingJobName=job_name)"
   ]
  },
  {
   "cell_type": "code",
   "execution_count": null,
   "metadata": {},
   "outputs": [],
   "source": [
    "tf_estimator.latest_training_job.rule_job_summary()"
   ]
  },
  {
   "cell_type": "code",
   "execution_count": null,
   "metadata": {},
   "outputs": [],
   "source": [
    "debug_output = description[\"DebugHookConfig\"][\"S3OutputPath\"] + job_name + '/' + 'debug-output/'\n",
    "print(debug_output)"
   ]
  },
  {
   "cell_type": "code",
   "execution_count": null,
   "metadata": {},
   "outputs": [],
   "source": [
    "from smdebug.trials import create_trial\n",
    "trial = create_trial(tf_estimator.latest_job_debugger_artifacts_path())"
   ]
  },
  {
   "cell_type": "code",
   "execution_count": null,
   "metadata": {},
   "outputs": [],
   "source": [
    "trial.collections()"
   ]
  },
  {
   "cell_type": "code",
   "execution_count": null,
   "metadata": {},
   "outputs": [],
   "source": [
    "trial.tensor_names()"
   ]
  },
  {
   "cell_type": "code",
   "execution_count": null,
   "metadata": {},
   "outputs": [],
   "source": [
    "trial.modes()"
   ]
  },
  {
   "cell_type": "code",
   "execution_count": null,
   "metadata": {},
   "outputs": [],
   "source": [
    "t_acc = trial.tensor('acc')"
   ]
  },
  {
   "cell_type": "code",
   "execution_count": null,
   "metadata": {},
   "outputs": [],
   "source": [
    "t_acc_val = t_acc.values()"
   ]
  },
  {
   "cell_type": "code",
   "execution_count": null,
   "metadata": {},
   "outputs": [],
   "source": [
    "import matplotlib.pyplot as plt\n",
    "import numpy as np\n",
    "\n",
    "plt.figure(num=1, figsize=(8, 8), dpi=60,\n",
    "        facecolor='w', edgecolor='k')\n",
    "\n",
    "for key, value in t_acc_val.items():\n",
    "    plt.scatter(key, value[0], c='b', marker='.')\n",
    "plt.show()"
   ]
  },
  {
   "cell_type": "code",
   "execution_count": null,
   "metadata": {},
   "outputs": [],
   "source": []
  }
 ],
 "metadata": {
  "kernelspec": {
   "display_name": "Python 3 (Data Science)",
   "language": "python",
   "name": "python3__SAGEMAKER_INTERNAL__arn:aws:sagemaker:us-east-2:429704687514:environment/datascience"
  },
  "language_info": {
   "codemirror_mode": {
    "name": "ipython",
    "version": 3
   },
   "file_extension": ".py",
   "mimetype": "text/x-python",
   "name": "python",
   "nbconvert_exporter": "python",
   "pygments_lexer": "ipython3",
   "version": "3.7.6"
  }
 },
 "nbformat": 4,
 "nbformat_minor": 4
}
